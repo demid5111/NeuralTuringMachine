{
  "nbformat": 4,
  "nbformat_minor": 0,
  "metadata": {
    "colab": {
      "name": "Untitled1.ipynb",
      "provenance": [],
      "include_colab_link": true
    },
    "kernelspec": {
      "name": "python3",
      "display_name": "Python 3"
    },
    "accelerator": "TPU"
  },
  "cells": [
    {
      "cell_type": "markdown",
      "metadata": {
        "id": "view-in-github",
        "colab_type": "text"
      },
      "source": [
        "<a href=\"https://colab.research.google.com/github/demid5111/NeuralTuringMachine/blob/feature%2Fdemidovs%2Ftry-ntm/notebooks/ntm.ipynb\" target=\"_parent\"><img src=\"https://colab.research.google.com/assets/colab-badge.svg\" alt=\"Open In Colab\"/></a>"
      ]
    },
    {
      "cell_type": "code",
      "metadata": {
        "id": "Nnt8XgigLEQL",
        "outputId": "5404bcd7-6a6d-4078-c9e9-3283c8d77568",
        "colab": {
          "base_uri": "https://localhost:8080/"
        }
      },
      "source": [
        "from google.colab import drive # import drive from google colab\n",
        "\n",
        "ROOT = \"/content/drive\"     # default location for the drive\n",
        "print(ROOT)                 # print content of ROOT (Optional)\n",
        "\n",
        "drive.mount(ROOT, force_remount=True)           # we mount the google drive at /content/drive"
      ],
      "execution_count": 1,
      "outputs": [
        {
          "output_type": "stream",
          "text": [
            "/content/drive\n",
            "Mounted at /content/drive\n"
          ],
          "name": "stdout"
        }
      ]
    },
    {
      "cell_type": "code",
      "metadata": {
        "id": "gjqKhpVkNfwN",
        "outputId": "b8b51837-128f-4144-9ef0-466cdf9acd55",
        "colab": {
          "base_uri": "https://localhost:8080/"
        }
      },
      "source": [
        "%cd /content/drive/'My Drive'/HSE/PhD/repositories_for_colab\n",
        "!git clone https://github.com/demid5111/NeuralTuringMachine tf1-approved-NeuralTuringMachine\n",
        "%cd tf1-approved-NeuralTuringMachine\n",
        "!export BRANCH_NAME=\"\"\n",
        "!git fetch --all\n",
        "!git checkout feature/demidovs/try-ntm\n",
        "!git pull --rebase"
      ],
      "execution_count": 15,
      "outputs": [
        {
          "output_type": "stream",
          "text": [
            "/content/drive/My Drive/HSE/PhD/repositories_for_colab\n",
            "total 4\n",
            "drwx------ 8 root root 4096 Nov  2 14:14 \u001b[0m\u001b[01;34mtf1-approved-NeuralTuringMachine\u001b[0m/\n",
            "fatal: destination path 'tf1-approved-NeuralTuringMachine' already exists and is not an empty directory.\n",
            "/content/drive/My Drive/HSE/PhD/repositories_for_colab/tf1-approved-NeuralTuringMachine\n",
            "Fetching origin\n",
            "remote: Enumerating objects: 5, done.\u001b[K\n",
            "remote: Counting objects: 100% (5/5), done.\u001b[K\n",
            "remote: Compressing objects: 100% (1/1), done.\u001b[K\n",
            "remote: Total 3 (delta 2), reused 3 (delta 2), pack-reused 0\u001b[K\n",
            "Unpacking objects: 100% (3/3), done.\n",
            "From https://github.com/demid5111/NeuralTuringMachine\n",
            "   664b9f3..2fabdb9  feature/demidovs/try-ntm -> origin/feature/demidovs/try-ntm\n",
            "Already on 'feature/demidovs/try-ntm'\n",
            "Your branch is behind 'origin/feature/demidovs/try-ntm' by 1 commit, and can be fast-forwarded.\n",
            "  (use \"git pull\" to update your local branch)\n",
            "Updating 664b9f3..2fabdb9\n",
            "Fast-forward\n",
            " run_tasks.py | 600 \u001b[32m+++++++++++++++++++++++++++++\u001b[m\u001b[31m------------------------------\u001b[m\n",
            " 1 file changed, 297 insertions(+), 303 deletions(-)\n",
            "Current branch feature/demidovs/try-ntm is up to date.\n"
          ],
          "name": "stdout"
        }
      ]
    },
    {
      "cell_type": "code",
      "metadata": {
        "id": "_kQQrfH0XnqV"
      },
      "source": [
        "%%script false\n",
        "!python3 -m pip install virtualenv\n",
        "!python3 -m virtualenv -p `which python3` venv"
      ],
      "execution_count": 16,
      "outputs": []
    },
    {
      "cell_type": "code",
      "metadata": {
        "id": "NeWVBhf1VxlH"
      },
      "source": [
        "%tensorflow_version 1.x"
      ],
      "execution_count": 17,
      "outputs": []
    },
    {
      "cell_type": "code",
      "metadata": {
        "id": "oVrk18BjKEr6",
        "outputId": "faeaed1b-e174-4dd5-dece-a32940197447",
        "colab": {
          "base_uri": "https://localhost:8080/"
        }
      },
      "source": [
        "import tensorflow\n",
        "print(tensorflow.__version__)"
      ],
      "execution_count": 18,
      "outputs": [
        {
          "output_type": "stream",
          "text": [
            "1.15.2\n"
          ],
          "name": "stdout"
        }
      ]
    },
    {
      "cell_type": "code",
      "metadata": {
        "id": "813cz8peUGha",
        "outputId": "a89fa5eb-2a7a-4602-c522-448865f59924",
        "colab": {
          "base_uri": "https://localhost:8080/"
        }
      },
      "source": [
        "!python3 -m pip install -r requirements_colab.txt"
      ],
      "execution_count": 19,
      "outputs": [
        {
          "output_type": "stream",
          "text": [
            "Requirement already satisfied: scipy==1.5.3 in /usr/local/lib/python3.6/dist-packages (from -r requirements_colab.txt (line 1)) (1.5.3)\n",
            "Requirement already satisfied: numpy>=1.14.5 in /usr/local/lib/python3.6/dist-packages (from scipy==1.5.3->-r requirements_colab.txt (line 1)) (1.18.5)\n"
          ],
          "name": "stdout"
        }
      ]
    },
    {
      "cell_type": "code",
      "metadata": {
        "id": "mPJXglDCZiqh",
        "outputId": "7e0b769b-98d5-4de0-8e93-77dcdb6c0eaf",
        "colab": {
          "base_uri": "https://localhost:8080/"
        }
      },
      "source": [
        "!python3 run_tasks.py --experiment_name experiment --verbose no "
      ],
      "execution_count": null,
      "outputs": [
        {
          "output_type": "stream",
          "text": [
            "WARNING:tensorflow:\n",
            "The TensorFlow contrib module will not be included in TensorFlow 2.0.\n",
            "For more information, please see:\n",
            "  * https://github.com/tensorflow/community/blob/master/rfcs/20180907-contrib-sunset.md\n",
            "  * https://github.com/tensorflow/addons\n",
            "  * https://github.com/tensorflow/io (for I/O related ops)\n",
            "If you depend on functionality not listed there, please file an issue.\n",
            "\n",
            "WARNING:tensorflow:\n",
            "The TensorFlow contrib module will not be included in TensorFlow 2.0.\n",
            "For more information, please see:\n",
            "  * https://github.com/tensorflow/community/blob/master/rfcs/20180907-contrib-sunset.md\n",
            "  * https://github.com/tensorflow/addons\n",
            "  * https://github.com/tensorflow/io (for I/O related ops)\n",
            "If you depend on functionality not listed there, please file an issue.\n",
            "\n",
            "INFO:numexpr.utils:NumExpr defaulting to 2 threads.\n",
            "WARNING:tensorflow:From run_tasks.py:135: The name tf.variable_scope is deprecated. Please use tf.compat.v1.variable_scope instead.\n",
            "\n",
            "WARNING:tensorflow:From run_tasks.py:135: The name tf.variable_scope is deprecated. Please use tf.compat.v1.variable_scope instead.\n",
            "\n",
            "WARNING:tensorflow:From run_tasks.py:136: The name tf.placeholder is deprecated. Please use tf.compat.v1.placeholder instead.\n",
            "\n",
            "WARNING:tensorflow:From run_tasks.py:136: The name tf.placeholder is deprecated. Please use tf.compat.v1.placeholder instead.\n",
            "\n",
            "WARNING:tensorflow:From /content/drive/My Drive/HSE/PhD/repositories_for_colab/tf1-approved-NeuralTuringMachine/ntm.py:31: BasicLSTMCell.__init__ (from tensorflow.python.ops.rnn_cell_impl) is deprecated and will be removed in a future version.\n",
            "Instructions for updating:\n",
            "This class is equivalent as tf.keras.layers.LSTMCell, and will be replaced by that in Tensorflow 2.0.\n",
            "WARNING:tensorflow:From /content/drive/My Drive/HSE/PhD/repositories_for_colab/tf1-approved-NeuralTuringMachine/ntm.py:31: BasicLSTMCell.__init__ (from tensorflow.python.ops.rnn_cell_impl) is deprecated and will be removed in a future version.\n",
            "Instructions for updating:\n",
            "This class is equivalent as tf.keras.layers.LSTMCell, and will be replaced by that in Tensorflow 2.0.\n",
            "WARNING:tensorflow:From /content/drive/My Drive/HSE/PhD/repositories_for_colab/tf1-approved-NeuralTuringMachine/ntm.py:33: MultiRNNCell.__init__ (from tensorflow.python.ops.rnn_cell_impl) is deprecated and will be removed in a future version.\n",
            "Instructions for updating:\n",
            "This class is equivalent as tf.keras.layers.StackedRNNCells, and will be replaced by that in Tensorflow 2.0.\n",
            "WARNING:tensorflow:From /content/drive/My Drive/HSE/PhD/repositories_for_colab/tf1-approved-NeuralTuringMachine/ntm.py:33: MultiRNNCell.__init__ (from tensorflow.python.ops.rnn_cell_impl) is deprecated and will be removed in a future version.\n",
            "Instructions for updating:\n",
            "This class is equivalent as tf.keras.layers.StackedRNNCells, and will be replaced by that in Tensorflow 2.0.\n",
            "WARNING:tensorflow:From /content/drive/My Drive/HSE/PhD/repositories_for_colab/tf1-approved-NeuralTuringMachine/utils.py:13: calling TruncatedNormal.__init__ (from tensorflow.python.ops.init_ops) with dtype is deprecated and will be removed in a future version.\n",
            "Instructions for updating:\n",
            "Call initializer instance with the dtype argument instead of passing it to the constructor\n",
            "WARNING:tensorflow:From /content/drive/My Drive/HSE/PhD/repositories_for_colab/tf1-approved-NeuralTuringMachine/utils.py:13: calling TruncatedNormal.__init__ (from tensorflow.python.ops.init_ops) with dtype is deprecated and will be removed in a future version.\n",
            "Instructions for updating:\n",
            "Call initializer instance with the dtype argument instead of passing it to the constructor\n",
            "WARNING:tensorflow:From run_tasks.py:108: dynamic_rnn (from tensorflow.python.ops.rnn) is deprecated and will be removed in a future version.\n",
            "Instructions for updating:\n",
            "Please use `keras.layers.RNN(cell)`, which is equivalent to this API\n",
            "WARNING:tensorflow:From run_tasks.py:108: dynamic_rnn (from tensorflow.python.ops.rnn) is deprecated and will be removed in a future version.\n",
            "Instructions for updating:\n",
            "Please use `keras.layers.RNN(cell)`, which is equivalent to this API\n",
            "WARNING:tensorflow:From /tensorflow-1.15.2/python3.6/tensorflow_core/contrib/layers/python/layers/layers.py:1866: Layer.apply (from tensorflow.python.keras.engine.base_layer) is deprecated and will be removed in a future version.\n",
            "Instructions for updating:\n",
            "Please use `layer.__call__` method instead.\n",
            "WARNING:tensorflow:From /tensorflow-1.15.2/python3.6/tensorflow_core/contrib/layers/python/layers/layers.py:1866: Layer.apply (from tensorflow.python.keras.engine.base_layer) is deprecated and will be removed in a future version.\n",
            "Instructions for updating:\n",
            "Please use `layer.__call__` method instead.\n",
            "WARNING:tensorflow:From /tensorflow-1.15.2/python3.6/tensorflow_core/python/ops/rnn_cell_impl.py:735: Layer.add_variable (from tensorflow.python.keras.engine.base_layer) is deprecated and will be removed in a future version.\n",
            "Instructions for updating:\n",
            "Please use `layer.add_weight` method instead.\n",
            "WARNING:tensorflow:From /tensorflow-1.15.2/python3.6/tensorflow_core/python/ops/rnn_cell_impl.py:735: Layer.add_variable (from tensorflow.python.keras.engine.base_layer) is deprecated and will be removed in a future version.\n",
            "Instructions for updating:\n",
            "Please use `layer.add_weight` method instead.\n",
            "WARNING:tensorflow:From /tensorflow-1.15.2/python3.6/tensorflow_core/python/ops/rnn_cell_impl.py:739: calling Zeros.__init__ (from tensorflow.python.ops.init_ops) with dtype is deprecated and will be removed in a future version.\n",
            "Instructions for updating:\n",
            "Call initializer instance with the dtype argument instead of passing it to the constructor\n",
            "WARNING:tensorflow:From /tensorflow-1.15.2/python3.6/tensorflow_core/python/ops/rnn_cell_impl.py:739: calling Zeros.__init__ (from tensorflow.python.ops.init_ops) with dtype is deprecated and will be removed in a future version.\n",
            "Instructions for updating:\n",
            "Call initializer instance with the dtype argument instead of passing it to the constructor\n",
            "WARNING:tensorflow:From /content/drive/My Drive/HSE/PhD/repositories_for_colab/tf1-approved-NeuralTuringMachine/ntm.py:117: calling reduce_sum_v1 (from tensorflow.python.ops.math_ops) with keep_dims is deprecated and will be removed in a future version.\n",
            "Instructions for updating:\n",
            "keep_dims is deprecated, use keepdims instead\n",
            "WARNING:tensorflow:From /content/drive/My Drive/HSE/PhD/repositories_for_colab/tf1-approved-NeuralTuringMachine/ntm.py:117: calling reduce_sum_v1 (from tensorflow.python.ops.math_ops) with keep_dims is deprecated and will be removed in a future version.\n",
            "Instructions for updating:\n",
            "keep_dims is deprecated, use keepdims instead\n",
            "WARNING:tensorflow:From /tensorflow-1.15.2/python3.6/tensorflow_core/python/util/dispatch.py:180: calling expand_dims (from tensorflow.python.ops.array_ops) with dim is deprecated and will be removed in a future version.\n",
            "Instructions for updating:\n",
            "Use the `axis` argument instead\n",
            "WARNING:tensorflow:From /tensorflow-1.15.2/python3.6/tensorflow_core/python/util/dispatch.py:180: calling expand_dims (from tensorflow.python.ops.array_ops) with dim is deprecated and will be removed in a future version.\n",
            "Instructions for updating:\n",
            "Use the `axis` argument instead\n",
            "WARNING:tensorflow:From /tensorflow-1.15.2/python3.6/tensorflow_core/python/ops/nn_impl.py:183: where (from tensorflow.python.ops.array_ops) is deprecated and will be removed in a future version.\n",
            "Instructions for updating:\n",
            "Use tf.where in 2.0, which has the same broadcast rule as np.where\n",
            "WARNING:tensorflow:From /tensorflow-1.15.2/python3.6/tensorflow_core/python/ops/nn_impl.py:183: where (from tensorflow.python.ops.array_ops) is deprecated and will be removed in a future version.\n",
            "Instructions for updating:\n",
            "Use tf.where in 2.0, which has the same broadcast rule as np.where\n",
            "WARNING:tensorflow:From run_tasks.py:129: The name tf.train.AdamOptimizer is deprecated. Please use tf.compat.v1.train.AdamOptimizer instead.\n",
            "\n",
            "WARNING:tensorflow:From run_tasks.py:129: The name tf.train.AdamOptimizer is deprecated. Please use tf.compat.v1.train.AdamOptimizer instead.\n",
            "\n",
            "WARNING:tensorflow:From run_tasks.py:131: The name tf.trainable_variables is deprecated. Please use tf.compat.v1.trainable_variables instead.\n",
            "\n",
            "WARNING:tensorflow:From run_tasks.py:131: The name tf.trainable_variables is deprecated. Please use tf.compat.v1.trainable_variables instead.\n",
            "\n",
            "WARNING:tensorflow:From run_tasks.py:140: The name tf.global_variables_initializer is deprecated. Please use tf.compat.v1.global_variables_initializer instead.\n",
            "\n",
            "WARNING:tensorflow:From run_tasks.py:140: The name tf.global_variables_initializer is deprecated. Please use tf.compat.v1.global_variables_initializer instead.\n",
            "\n",
            "WARNING:tensorflow:From run_tasks.py:169: The name tf.Session is deprecated. Please use tf.compat.v1.Session instead.\n",
            "\n",
            "WARNING:tensorflow:From run_tasks.py:169: The name tf.Session is deprecated. Please use tf.compat.v1.Session instead.\n",
            "\n",
            "2020-11-02 18:23:36.300858: I tensorflow/stream_executor/platform/default/dso_loader.cc:44] Successfully opened dynamic library libcuda.so.1\n",
            "2020-11-02 18:23:36.315215: E tensorflow/stream_executor/cuda/cuda_driver.cc:318] failed call to cuInit: CUDA_ERROR_NO_DEVICE: no CUDA-capable device is detected\n",
            "2020-11-02 18:23:36.315310: I tensorflow/stream_executor/cuda/cuda_diagnostics.cc:156] kernel driver does not appear to be running on this host (fc36c4ed4b85): /proc/driver/nvidia/version does not exist\n",
            "2020-11-02 18:23:36.327758: I tensorflow/core/platform/profile_utils/cpu_utils.cc:94] CPU Frequency: 2250000000 Hz\n",
            "2020-11-02 18:23:36.328689: I tensorflow/compiler/xla/service/service.cc:168] XLA service 0x26bed80 initialized for platform Host (this does not guarantee that XLA will be used). Devices:\n",
            "2020-11-02 18:23:36.328723: I tensorflow/compiler/xla/service/service.cc:176]   StreamExecutor device (0): Host, Default Version\n",
            "INFO:__main__:----EVAL----\n",
            "INFO:__main__:target task error/loss: 80.440625,110.93830871582031\n",
            "INFO:__main__:multi task error/loss: 42.75,58.26164350509644\n",
            "INFO:__main__:curriculum point error/loss (20): 79.5625,110.90679016113282\n",
            "INFO:__main__:EVAL_PARSABLE: 0,80.440625,110.93830871582031,42.75,58.26164350509644,20,79.5625,110.90679016113282\n",
            "INFO:__main__:----EVAL----\n",
            "INFO:__main__:target task error/loss: 60.446875,103.63776245117188\n",
            "INFO:__main__:multi task error/loss: 34.6765625,55.920703411102295\n",
            "INFO:__main__:curriculum point error/loss (20): 60.14375,103.28496856689453\n",
            "INFO:__main__:EVAL_PARSABLE: 200,60.446875,103.63776245117188,34.6765625,55.920703411102295,20,60.14375,103.28496856689453\n",
            "INFO:__main__:----EVAL----\n",
            "INFO:__main__:target task error/loss: 56.790625,100.31854705810547\n",
            "INFO:__main__:multi task error/loss: 36.375,56.39221987724304\n",
            "INFO:__main__:curriculum point error/loss (20): 57.53125,100.96507110595704\n",
            "INFO:__main__:EVAL_PARSABLE: 400,56.790625,100.31854705810547,36.375,56.39221987724304,20,57.53125,100.96507110595704\n",
            "INFO:__main__:----EVAL----\n",
            "INFO:__main__:target task error/loss: 54.74375,98.40829162597656\n",
            "INFO:__main__:multi task error/loss: 35.3984375,56.3541476726532\n",
            "INFO:__main__:curriculum point error/loss (20): 54.86875,97.91842041015624\n",
            "INFO:__main__:EVAL_PARSABLE: 600,54.74375,98.40829162597656,35.3984375,56.3541476726532,20,54.86875,97.91842041015624\n",
            "INFO:__main__:----EVAL----\n",
            "INFO:__main__:target task error/loss: 52.875,95.98088836669922\n",
            "INFO:__main__:multi task error/loss: 35.190625,56.4519121170044\n",
            "INFO:__main__:curriculum point error/loss (20): 52.90625,96.44502105712891\n",
            "INFO:__main__:EVAL_PARSABLE: 800,52.875,95.98088836669922,35.190625,56.4519121170044,20,52.90625,96.44502105712891\n",
            "INFO:__main__:----EVAL----\n",
            "INFO:__main__:target task error/loss: 52.196875,95.24706268310547\n",
            "INFO:__main__:multi task error/loss: 35.1625,56.715428137779234\n",
            "INFO:__main__:curriculum point error/loss (20): 51.6875,94.92151947021485\n",
            "INFO:__main__:EVAL_PARSABLE: 1000,52.196875,95.24706268310547,35.1625,56.715428137779234,20,51.6875,94.92151947021485\n",
            "INFO:__main__:----EVAL----\n",
            "INFO:__main__:target task error/loss: 51.3375,94.07112884521484\n",
            "INFO:__main__:multi task error/loss: 35.6703125,57.28923201560974\n",
            "INFO:__main__:curriculum point error/loss (20): 51.525,94.04397735595703\n",
            "INFO:__main__:EVAL_PARSABLE: 1200,51.3375,94.07112884521484,35.6703125,57.28923201560974,20,51.525,94.04397735595703\n",
            "INFO:__main__:----EVAL----\n",
            "INFO:__main__:target task error/loss: 49.60625,92.62679519653321\n",
            "INFO:__main__:multi task error/loss: 35.9828125,58.19845902919769\n",
            "INFO:__main__:curriculum point error/loss (20): 50.0125,93.04838409423829\n",
            "INFO:__main__:EVAL_PARSABLE: 1400,49.60625,92.62679519653321,35.9828125,58.19845902919769,20,50.0125,93.04838409423829\n",
            "INFO:__main__:----EVAL----\n",
            "INFO:__main__:target task error/loss: 49.3625,91.61764373779297\n",
            "INFO:__main__:multi task error/loss: 36.1453125,58.520913529396054\n",
            "INFO:__main__:curriculum point error/loss (20): 49.3,91.66295013427734\n",
            "INFO:__main__:EVAL_PARSABLE: 1600,49.3625,91.61764373779297,36.1453125,58.520913529396054,20,49.3,91.66295013427734\n",
            "INFO:__main__:----EVAL----\n",
            "INFO:__main__:target task error/loss: 48.653125,90.7533805847168\n",
            "INFO:__main__:multi task error/loss: 36.496875,59.40459156036377\n",
            "INFO:__main__:curriculum point error/loss (20): 48.35625,90.91461944580078\n",
            "INFO:__main__:EVAL_PARSABLE: 1800,48.653125,90.7533805847168,36.496875,59.40459156036377,20,48.35625,90.91461944580078\n",
            "INFO:__main__:----EVAL----\n",
            "INFO:__main__:target task error/loss: 47.896875,89.8651023864746\n",
            "INFO:__main__:multi task error/loss: 36.675,60.597974157333375\n",
            "INFO:__main__:curriculum point error/loss (20): 48.2625,89.71964416503906\n",
            "INFO:__main__:EVAL_PARSABLE: 2000,47.896875,89.8651023864746,36.675,60.597974157333375,20,48.2625,89.71964416503906\n",
            "INFO:__main__:----EVAL----\n",
            "INFO:__main__:target task error/loss: 47.378125,89.15719375610351\n",
            "INFO:__main__:multi task error/loss: 36.66875,61.17385883331299\n",
            "INFO:__main__:curriculum point error/loss (20): 47.1875,89.16801147460937\n",
            "INFO:__main__:EVAL_PARSABLE: 2200,47.378125,89.15719375610351,36.66875,61.17385883331299,20,47.1875,89.16801147460937\n",
            "INFO:__main__:----EVAL----\n",
            "INFO:__main__:target task error/loss: 46.4625,88.16224060058593\n",
            "INFO:__main__:multi task error/loss: 36.703125,61.93427453041077\n",
            "INFO:__main__:curriculum point error/loss (20): 47.075,88.71935119628907\n",
            "INFO:__main__:EVAL_PARSABLE: 2400,46.4625,88.16224060058593,36.703125,61.93427453041077,20,47.075,88.71935119628907\n",
            "INFO:__main__:----EVAL----\n",
            "INFO:__main__:target task error/loss: 46.125,87.52923965454102\n",
            "INFO:__main__:multi task error/loss: 36.56875,63.2956446647644\n",
            "INFO:__main__:curriculum point error/loss (20): 46.45625,87.99539489746094\n",
            "INFO:__main__:EVAL_PARSABLE: 2600,46.125,87.52923965454102,36.56875,63.2956446647644,20,46.45625,87.99539489746094\n",
            "INFO:__main__:----EVAL----\n",
            "INFO:__main__:target task error/loss: 45.4875,86.74898300170898\n",
            "INFO:__main__:multi task error/loss: 36.425,63.90379898548126\n",
            "INFO:__main__:curriculum point error/loss (20): 45.24375,86.62935180664063\n",
            "INFO:__main__:EVAL_PARSABLE: 2800,45.4875,86.74898300170898,36.425,63.90379898548126,20,45.24375,86.62935180664063\n",
            "INFO:__main__:----EVAL----\n",
            "INFO:__main__:target task error/loss: 45.55,86.42634353637695\n",
            "INFO:__main__:multi task error/loss: 36.6953125,65.79599549770356\n",
            "INFO:__main__:curriculum point error/loss (20): 45.15,86.25696411132813\n",
            "INFO:__main__:EVAL_PARSABLE: 3000,45.55,86.42634353637695,36.6953125,65.79599549770356,20,45.15,86.25696411132813\n"
          ],
          "name": "stdout"
        }
      ]
    }
  ]
}